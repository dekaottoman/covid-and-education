{
 "cells": [
  {
   "cell_type": "code",
   "execution_count": 1,
   "metadata": {},
   "outputs": [
    {
     "data": {
      "text/html": [
       "<div>\n",
       "<style scoped>\n",
       "    .dataframe tbody tr th:only-of-type {\n",
       "        vertical-align: middle;\n",
       "    }\n",
       "\n",
       "    .dataframe tbody tr th {\n",
       "        vertical-align: top;\n",
       "    }\n",
       "\n",
       "    .dataframe thead th {\n",
       "        text-align: right;\n",
       "    }\n",
       "</style>\n",
       "<table border=\"1\" class=\"dataframe\">\n",
       "  <thead>\n",
       "    <tr style=\"text-align: right;\">\n",
       "      <th></th>\n",
       "      <th>Unnamed: 0</th>\n",
       "      <th>id</th>\n",
       "      <th>created_at</th>\n",
       "      <th>date</th>\n",
       "      <th>time</th>\n",
       "      <th>timezone</th>\n",
       "      <th>user_id</th>\n",
       "      <th>username</th>\n",
       "      <th>name</th>\n",
       "      <th>tweet</th>\n",
       "      <th>language</th>\n",
       "      <th>link</th>\n",
       "      <th>retweet</th>\n",
       "      <th>sentiment</th>\n",
       "    </tr>\n",
       "  </thead>\n",
       "  <tbody>\n",
       "    <tr>\n",
       "      <th>0</th>\n",
       "      <td>1439</td>\n",
       "      <td>1.520000e+18</td>\n",
       "      <td>2022-05-05 07:38:56 Turkey Standard Time</td>\n",
       "      <td>5/5/2022</td>\n",
       "      <td>7:38:56</td>\n",
       "      <td>300</td>\n",
       "      <td>1.230000e+18</td>\n",
       "      <td>mayank_twts</td>\n",
       "      <td>Mayank Verma</td>\n",
       "      <td>EdTech Startup ÃÂ¢ÃÂÃÂ  The industry that...</td>\n",
       "      <td>en</td>\n",
       "      <td>https://twitter.com/mayank_twts/status/1522073...</td>\n",
       "      <td>False</td>\n",
       "      <td>1</td>\n",
       "    </tr>\n",
       "    <tr>\n",
       "      <th>1</th>\n",
       "      <td>726</td>\n",
       "      <td>1.520000e+18</td>\n",
       "      <td>2022-05-03 22:50:03 Turkey Standard Time</td>\n",
       "      <td>5/3/2022</td>\n",
       "      <td>22:50:03</td>\n",
       "      <td>300</td>\n",
       "      <td>9.260000e+17</td>\n",
       "      <td>huntingtonngc</td>\n",
       "      <td>Huntington Learning</td>\n",
       "      <td>There are a lot of unknowns about this school ...</td>\n",
       "      <td>en</td>\n",
       "      <td>https://twitter.com/HuntingtonNGC/status/15215...</td>\n",
       "      <td>False</td>\n",
       "      <td>0</td>\n",
       "    </tr>\n",
       "  </tbody>\n",
       "</table>\n",
       "</div>"
      ],
      "text/plain": [
       "   Unnamed: 0            id                                created_at  \\\n",
       "0        1439  1.520000e+18  2022-05-05 07:38:56 Turkey Standard Time   \n",
       "1         726  1.520000e+18  2022-05-03 22:50:03 Turkey Standard Time   \n",
       "\n",
       "       date      time  timezone       user_id       username  \\\n",
       "0  5/5/2022   7:38:56       300  1.230000e+18    mayank_twts   \n",
       "1  5/3/2022  22:50:03       300  9.260000e+17  huntingtonngc   \n",
       "\n",
       "                  name                                              tweet  \\\n",
       "0         Mayank Verma  EdTech Startup ÃÂ¢ÃÂÃÂ\n",
       "  The industry that...   \n",
       "1  Huntington Learning  There are a lot of unknowns about this school ...   \n",
       "\n",
       "  language                                               link  retweet  \\\n",
       "0       en  https://twitter.com/mayank_twts/status/1522073...    False   \n",
       "1       en  https://twitter.com/HuntingtonNGC/status/15215...    False   \n",
       "\n",
       "   sentiment  \n",
       "0          1  \n",
       "1          0  "
      ]
     },
     "execution_count": 1,
     "metadata": {},
     "output_type": "execute_result"
    }
   ],
   "source": [
    "import pandas as pd\n",
    "\n",
    "data = pd.read_csv(\"labeled_data.csv\", encoding = \"ISO-8859-1\")\n",
    "\n",
    "sentences = data[\"tweet\"]\n",
    "sentiments = data[\"sentiment\"]\n",
    "\n",
    "data.head(2)"
   ]
  },
  {
   "cell_type": "code",
   "execution_count": 2,
   "metadata": {},
   "outputs": [
    {
     "name": "stdout",
     "output_type": "stream",
     "text": [
      "['edtech', 'startup', 'industry', 'gained', 'attention', 'uncertain', 'times', 'education', 'industry', 'students', 'teachers', 'feel', 'burned', 'pandemic', 'learning', 'companies', 'market', 'online', 'learning', 'tools', 'schools', 'enjoying', 'coronavirus', 'windfall']\n"
     ]
    }
   ],
   "source": [
    "import string\n",
    "from nltk.tokenize import word_tokenize\n",
    "from nltk.corpus import stopwords\n",
    "\n",
    "sentence_all = list()\n",
    "lines = sentences.to_list()\n",
    "\n",
    "for line in lines:\n",
    "    tokens = word_tokenize(line)\n",
    "    tokens = [w.lower() for w in tokens]\n",
    "    table = str.maketrans('','',string.punctuation)\n",
    "    stripped = [w.translate(table) for w in tokens]\n",
    "    words = [word for word in stripped if word.isalpha()]\n",
    "    stop_words = set(stopwords.words(\"english\"))\n",
    "    words = [w for w in words if not w in stop_words]\n",
    "    sentence_all.append(words)\n",
    "\n",
    "print(sentence_all[0])"
   ]
  },
  {
   "cell_type": "code",
   "execution_count": 3,
   "metadata": {},
   "outputs": [
    {
     "name": "stdout",
     "output_type": "stream",
     "text": [
      "Vocabulary size: 9053\n"
     ]
    }
   ],
   "source": [
    "import gensim\n",
    "\n",
    "embedding_dim = 50\n",
    "model = gensim.models.Word2Vec(sentences=sentence_all,vector_size=embedding_dim,window=5,workers=4,min_count=1)\n",
    "words = len(model.wv)\n",
    "print(\"Vocabulary size: %d\"%(words))\n",
    "model.wv.save_word2vec_format(\"embed.txt\",binary=False)"
   ]
  },
  {
   "cell_type": "code",
   "execution_count": 4,
   "metadata": {},
   "outputs": [],
   "source": [
    "import os\n",
    "import numpy as np\n",
    "\n",
    "embedding_index = {}\n",
    "f = open(os.path.join('',\"embed.txt\"))\n",
    "\n",
    "for line in f:\n",
    "    values = line.split()\n",
    "    word = values[0]\n",
    "    coefs = np.asarray(values[1:])\n",
    "    embedding_index[word] = coefs\n",
    "\n",
    "f.close()"
   ]
  },
  {
   "cell_type": "code",
   "execution_count": 5,
   "metadata": {},
   "outputs": [
    {
     "name": "stdout",
     "output_type": "stream",
     "text": [
      "Unique tokens:9053\n",
      "['edtech', 'startup', 'industry', 'gained', 'attention', 'uncertain', 'times', 'education', 'industry', 'students', 'teachers', 'feel', 'burned', 'pandemic', 'learning', 'companies', 'market', 'online', 'learning', 'tools', 'schools', 'enjoying', 'coronavirus', 'windfall']\n",
      "[49, 3777, 248, 1737, 1389, 2401, 317, 4, 248, 8, 21, 1390, 3778, 11, 2, 1142, 508, 5, 2, 561, 19, 2402, 7, 3779]\n"
     ]
    }
   ],
   "source": [
    "from keras.preprocessing.text import Tokenizer\n",
    "\n",
    "tokenizer = Tokenizer()\n",
    "tokenizer.fit_on_texts(sentence_all)\n",
    "\n",
    "sentences = tokenizer.texts_to_sequences(sentence_all)\n",
    "\n",
    "word_index = tokenizer.word_index\n",
    "print(\"Unique tokens:%d\"%len(word_index))\n",
    "print(sentence_all[0])\n",
    "print(sentences[0])"
   ]
  },
  {
   "cell_type": "code",
   "execution_count": 6,
   "metadata": {},
   "outputs": [
    {
     "name": "stdout",
     "output_type": "stream",
     "text": [
      "Maxlen: 37\n",
      "Shape :  (2223, 37)\n"
     ]
    }
   ],
   "source": [
    "from keras.preprocessing.sequence import pad_sequences\n",
    "\n",
    "maxlen = max([len(x) for x in sentences])\n",
    "print(\"Maxlen:\",maxlen)\n",
    "\n",
    "sentences = pad_sequences(sentences, padding='post',maxlen=maxlen)\n",
    "print(\"Shape : \", sentences.shape)"
   ]
  },
  {
   "cell_type": "code",
   "execution_count": 7,
   "metadata": {},
   "outputs": [
    {
     "name": "stdout",
     "output_type": "stream",
     "text": [
      "(1667, 37) (556, 37)\n",
      "(1667,) (556,)\n"
     ]
    }
   ],
   "source": [
    "from sklearn.model_selection import train_test_split\n",
    "\n",
    "xTrain, xTest, yTrain, yTest = train_test_split(sentences, sentiments, test_size=0.25)\n",
    "print(xTrain.shape,xTest.shape)\n",
    "print(yTrain.shape,yTest.shape)"
   ]
  },
  {
   "cell_type": "code",
   "execution_count": 8,
   "metadata": {},
   "outputs": [
    {
     "name": "stdout",
     "output_type": "stream",
     "text": [
      "[0. 0. 1. 0.]\n"
     ]
    }
   ],
   "source": [
    "from tensorflow.keras.utils import to_categorical\n",
    "\n",
    "yTrain = to_categorical(yTrain)\n",
    "yTest = to_categorical(yTest)\n",
    "\n",
    "print(yTrain[0])"
   ]
  },
  {
   "cell_type": "code",
   "execution_count": 9,
   "metadata": {},
   "outputs": [
    {
     "name": "stdout",
     "output_type": "stream",
     "text": [
      "Model: \"sequential\"\n",
      "_________________________________________________________________\n",
      " Layer (type)                Output Shape              Param #   \n",
      "=================================================================\n",
      " embedding (Embedding)       (None, 37, 50)            452700    \n",
      "                                                                 \n",
      " lstm (LSTM)                 (None, 64)                29440     \n",
      "                                                                 \n",
      " dense (Dense)               (None, 16)                1040      \n",
      "                                                                 \n",
      " dropout (Dropout)           (None, 16)                0         \n",
      "                                                                 \n",
      " dense_1 (Dense)             (None, 4)                 68        \n",
      "                                                                 \n",
      "=================================================================\n",
      "Total params: 483,248\n",
      "Trainable params: 30,548\n",
      "Non-trainable params: 452,700\n",
      "_________________________________________________________________\n"
     ]
    }
   ],
   "source": [
    "from keras.models import Sequential\n",
    "from keras.layers import *\n",
    "from keras.layers.embeddings import Embedding\n",
    "from keras.regularizers import l1,l2 \n",
    "from keras.initializers import Constant\n",
    "\n",
    "d_rate = 0.5\n",
    "r_factor = 0.1\n",
    "\n",
    "model = Sequential()\n",
    "model.add(Embedding((len(word_index)+1), embedding_dim,input_length=maxlen,trainable=False))\n",
    "model.add(LSTM(64))\n",
    "model.add(Dense(16,activation=\"relu\",bias_regularizer=l2(r_factor)))\n",
    "model.add(Dropout(d_rate))\n",
    "model.add(Dense(4,activation=\"softmax\"))\n",
    "\n",
    "model.summary()"
   ]
  },
  {
   "cell_type": "code",
   "execution_count": 10,
   "metadata": {},
   "outputs": [
    {
     "name": "stdout",
     "output_type": "stream",
     "text": [
      "Epoch 1/50\n",
      "53/53 [==============================] - 4s 28ms/step - loss: 1.3739 - accuracy: 0.2735 - val_loss: 1.3584 - val_accuracy: 0.4514\n",
      "Epoch 2/50\n",
      "53/53 [==============================] - 1s 16ms/step - loss: 1.3460 - accuracy: 0.3881 - val_loss: 1.3026 - val_accuracy: 0.4514\n",
      "Epoch 3/50\n",
      "53/53 [==============================] - 1s 15ms/step - loss: 1.3211 - accuracy: 0.4499 - val_loss: 1.3011 - val_accuracy: 0.4514\n",
      "Epoch 4/50\n",
      "53/53 [==============================] - 1s 15ms/step - loss: 1.3033 - accuracy: 0.4553 - val_loss: 1.2347 - val_accuracy: 0.4586\n",
      "Epoch 5/50\n",
      "53/53 [==============================] - 1s 16ms/step - loss: 1.3077 - accuracy: 0.4493 - val_loss: 1.3215 - val_accuracy: 0.4514\n",
      "Epoch 6/50\n",
      "53/53 [==============================] - 1s 15ms/step - loss: 1.3184 - accuracy: 0.4589 - val_loss: 1.3097 - val_accuracy: 0.4514\n",
      "Epoch 7/50\n",
      "53/53 [==============================] - 1s 16ms/step - loss: 1.3055 - accuracy: 0.4529 - val_loss: 1.2707 - val_accuracy: 0.4514\n",
      "Epoch 8/50\n",
      "53/53 [==============================] - 1s 16ms/step - loss: 1.2738 - accuracy: 0.4769 - val_loss: 1.2169 - val_accuracy: 0.4496\n",
      "Epoch 9/50\n",
      "53/53 [==============================] - 1s 16ms/step - loss: 1.2463 - accuracy: 0.4841 - val_loss: 1.2509 - val_accuracy: 0.4640\n",
      "Epoch 10/50\n",
      "53/53 [==============================] - 1s 15ms/step - loss: 1.2912 - accuracy: 0.4601 - val_loss: 1.2805 - val_accuracy: 0.4514\n",
      "Epoch 11/50\n",
      "53/53 [==============================] - 1s 16ms/step - loss: 1.2764 - accuracy: 0.4583 - val_loss: 1.2729 - val_accuracy: 0.4514\n",
      "Epoch 12/50\n",
      "53/53 [==============================] - 1s 15ms/step - loss: 1.2275 - accuracy: 0.4751 - val_loss: 1.1583 - val_accuracy: 0.5072\n",
      "Epoch 13/50\n",
      "53/53 [==============================] - 1s 15ms/step - loss: 1.1867 - accuracy: 0.5009 - val_loss: 1.0955 - val_accuracy: 0.5504\n",
      "Epoch 14/50\n",
      "53/53 [==============================] - 1s 16ms/step - loss: 1.1566 - accuracy: 0.5177 - val_loss: 1.1198 - val_accuracy: 0.5234\n",
      "Epoch 15/50\n",
      "53/53 [==============================] - 1s 16ms/step - loss: 1.1549 - accuracy: 0.5201 - val_loss: 1.0627 - val_accuracy: 0.5899\n",
      "Epoch 16/50\n",
      "53/53 [==============================] - 1s 15ms/step - loss: 1.1128 - accuracy: 0.5381 - val_loss: 1.0980 - val_accuracy: 0.5719\n",
      "Epoch 17/50\n",
      "53/53 [==============================] - 1s 16ms/step - loss: 1.1199 - accuracy: 0.5381 - val_loss: 1.0424 - val_accuracy: 0.6007\n",
      "Epoch 18/50\n",
      "53/53 [==============================] - 1s 16ms/step - loss: 1.1051 - accuracy: 0.5345 - val_loss: 1.0808 - val_accuracy: 0.5719\n",
      "Epoch 19/50\n",
      "53/53 [==============================] - 1s 15ms/step - loss: 1.0860 - accuracy: 0.5465 - val_loss: 1.0280 - val_accuracy: 0.6151\n",
      "Epoch 20/50\n",
      "53/53 [==============================] - 1s 16ms/step - loss: 1.0802 - accuracy: 0.5627 - val_loss: 1.0344 - val_accuracy: 0.5971\n",
      "Epoch 21/50\n",
      "53/53 [==============================] - 1s 16ms/step - loss: 1.1239 - accuracy: 0.5345 - val_loss: 1.0438 - val_accuracy: 0.5414\n",
      "Epoch 22/50\n",
      "53/53 [==============================] - 1s 16ms/step - loss: 1.1526 - accuracy: 0.4991 - val_loss: 1.0622 - val_accuracy: 0.5378\n",
      "Epoch 23/50\n",
      "53/53 [==============================] - 1s 16ms/step - loss: 1.0821 - accuracy: 0.5435 - val_loss: 1.0345 - val_accuracy: 0.5576\n",
      "Epoch 24/50\n",
      "53/53 [==============================] - 1s 16ms/step - loss: 1.0730 - accuracy: 0.5525 - val_loss: 1.0305 - val_accuracy: 0.5899\n",
      "Epoch 25/50\n",
      "53/53 [==============================] - 1s 16ms/step - loss: 1.0647 - accuracy: 0.5669 - val_loss: 1.0218 - val_accuracy: 0.6079\n",
      "Epoch 26/50\n",
      "53/53 [==============================] - 1s 16ms/step - loss: 1.0667 - accuracy: 0.5627 - val_loss: 1.0146 - val_accuracy: 0.5953\n",
      "Epoch 27/50\n",
      "53/53 [==============================] - 1s 16ms/step - loss: 1.0600 - accuracy: 0.5615 - val_loss: 1.0271 - val_accuracy: 0.5953\n",
      "Epoch 28/50\n",
      "53/53 [==============================] - 1s 16ms/step - loss: 1.0714 - accuracy: 0.5585 - val_loss: 1.0258 - val_accuracy: 0.6079\n",
      "Epoch 29/50\n",
      "53/53 [==============================] - 1s 16ms/step - loss: 1.0403 - accuracy: 0.5717 - val_loss: 1.0142 - val_accuracy: 0.6133\n",
      "Epoch 30/50\n",
      "53/53 [==============================] - 1s 16ms/step - loss: 1.0578 - accuracy: 0.5573 - val_loss: 1.0308 - val_accuracy: 0.6079\n",
      "Epoch 31/50\n",
      "53/53 [==============================] - 1s 16ms/step - loss: 1.0240 - accuracy: 0.5717 - val_loss: 1.0100 - val_accuracy: 0.6133\n",
      "Epoch 32/50\n",
      "53/53 [==============================] - 1s 16ms/step - loss: 1.0356 - accuracy: 0.5747 - val_loss: 1.0183 - val_accuracy: 0.6007\n",
      "Epoch 33/50\n",
      "53/53 [==============================] - 1s 16ms/step - loss: 1.0293 - accuracy: 0.5843 - val_loss: 1.0197 - val_accuracy: 0.5917\n",
      "Epoch 34/50\n",
      "53/53 [==============================] - 1s 16ms/step - loss: 1.0710 - accuracy: 0.5459 - val_loss: 1.0284 - val_accuracy: 0.5989\n",
      "Epoch 35/50\n",
      "53/53 [==============================] - 1s 16ms/step - loss: 1.0269 - accuracy: 0.5741 - val_loss: 0.9860 - val_accuracy: 0.6205\n",
      "Epoch 36/50\n",
      "53/53 [==============================] - 1s 16ms/step - loss: 1.0313 - accuracy: 0.5831 - val_loss: 1.0017 - val_accuracy: 0.5953\n",
      "Epoch 37/50\n",
      "53/53 [==============================] - 1s 16ms/step - loss: 1.0161 - accuracy: 0.5825 - val_loss: 1.0425 - val_accuracy: 0.5899\n",
      "Epoch 38/50\n",
      "53/53 [==============================] - 1s 16ms/step - loss: 1.0243 - accuracy: 0.5843 - val_loss: 1.0093 - val_accuracy: 0.5917\n",
      "Epoch 39/50\n",
      "53/53 [==============================] - 1s 17ms/step - loss: 1.0285 - accuracy: 0.5969 - val_loss: 0.9740 - val_accuracy: 0.6223\n",
      "Epoch 40/50\n",
      "53/53 [==============================] - 1s 17ms/step - loss: 1.0177 - accuracy: 0.5849 - val_loss: 0.9791 - val_accuracy: 0.6025\n",
      "Epoch 41/50\n",
      "53/53 [==============================] - 1s 16ms/step - loss: 1.0036 - accuracy: 0.5957 - val_loss: 0.9921 - val_accuracy: 0.6061\n",
      "Epoch 42/50\n",
      "53/53 [==============================] - 1s 16ms/step - loss: 0.9930 - accuracy: 0.5891 - val_loss: 0.9696 - val_accuracy: 0.6151\n",
      "Epoch 43/50\n",
      "53/53 [==============================] - 1s 16ms/step - loss: 1.0108 - accuracy: 0.5867 - val_loss: 0.9998 - val_accuracy: 0.6151\n",
      "Epoch 44/50\n",
      "53/53 [==============================] - 1s 16ms/step - loss: 0.9929 - accuracy: 0.5951 - val_loss: 1.0010 - val_accuracy: 0.6097\n",
      "Epoch 45/50\n",
      "53/53 [==============================] - 1s 16ms/step - loss: 0.9950 - accuracy: 0.5891 - val_loss: 1.0395 - val_accuracy: 0.5504\n",
      "Epoch 46/50\n",
      "53/53 [==============================] - 1s 16ms/step - loss: 1.0194 - accuracy: 0.5783 - val_loss: 1.0036 - val_accuracy: 0.5989\n",
      "Epoch 47/50\n",
      "53/53 [==============================] - 1s 16ms/step - loss: 0.9803 - accuracy: 0.5981 - val_loss: 1.0509 - val_accuracy: 0.5665\n",
      "Epoch 48/50\n",
      "53/53 [==============================] - 1s 16ms/step - loss: 0.9933 - accuracy: 0.6023 - val_loss: 1.0162 - val_accuracy: 0.5755\n",
      "Epoch 49/50\n",
      "53/53 [==============================] - 1s 17ms/step - loss: 1.0186 - accuracy: 0.5909 - val_loss: 1.0076 - val_accuracy: 0.5863\n",
      "Epoch 50/50\n",
      "53/53 [==============================] - 1s 16ms/step - loss: 0.9563 - accuracy: 0.6029 - val_loss: 1.0229 - val_accuracy: 0.5863\n"
     ]
    }
   ],
   "source": [
    "model.compile(optimizer='adam',loss='categorical_crossentropy',metrics=['accuracy'])\n",
    "model_history = model.fit(xTrain,yTrain,epochs=50,validation_data=(xTest,yTest))"
   ]
  },
  {
   "cell_type": "code",
   "execution_count": 11,
   "metadata": {},
   "outputs": [
    {
     "data": {
      "image/png": "[encoded data removed]",
      "text/plain": [
       "<Figure size 864x432 with 2 Axes>"
      ]
     },
     "metadata": {
      "needs_background": "light"
     },
     "output_type": "display_data"
    }
   ],
   "source": [
    "import matplotlib.pyplot as plt\n",
    "\n",
    "trainLoss = model_history.history[\"loss\"]\n",
    "valLoss = model_history.history[\"val_loss\"]\n",
    "trainAccuracy = model_history.history[\"accuracy\"]\n",
    "valAccuracy = model_history.history[\"val_accuracy\"]\n",
    "\n",
    "plt.figure(figsize=(12,6))\n",
    "\n",
    "plt.subplot(1,2,1)\n",
    "plt.plot(trainLoss, \"r\",label=\"Training Loss\")\n",
    "plt.plot(valLoss, \"b\", label=\"Validation Loss\")\n",
    "plt.title(\"Training and Validation Loss\")\n",
    "plt.xlabel(\"Epoch\")\n",
    "plt.ylabel(\"Loss Value\")\n",
    "plt.legend()\n",
    "\n",
    "plt.subplot(1,2,2)\n",
    "plt.plot(trainAccuracy, \"r\",label=\"Training Accuracy\")\n",
    "plt.plot(valAccuracy, \"b\", label=\"Validation Accuracy\")\n",
    "plt.title(\"Training and Validation Accuracy\")\n",
    "plt.xlabel(\"Epoch\")\n",
    "plt.ylabel(\"Accuracy\")\n",
    "plt.legend()\n",
    "\n",
    "plt.show()"
   ]
  },
  {
   "cell_type": "code",
   "execution_count": 12,
   "metadata": {},
   "outputs": [
    {
     "data": {
      "text/plain": [
       "Text(0.5, 1.0, 'ROC Curve')"
      ]
     },
     "execution_count": 12,
     "metadata": {},
     "output_type": "execute_result"
    },
    {
     "data": {
      "image/png": "[encoded data removed]",
      "text/plain": [
       "<Figure size 432x288 with 1 Axes>"
      ]
     },
     "metadata": {
      "needs_background": "light"
     },
     "output_type": "display_data"
    }
   ],
   "source": [
    "from sklearn.metrics import roc_curve\n",
    "\n",
    "yPred = model.predict(xTest)\n",
    "\n",
    "fpr, tpr, thresholds = roc_curve(yTest.ravel(),yPred.ravel())\n",
    "plt.plot(fpr,tpr)\n",
    "plt.xlabel(\"False Positive Rate\")\n",
    "plt.xlabel(\"False Positive Rate\")\n",
    "plt.title(\"ROC Curve\")"
   ]
  }
 ],
 "metadata": {
  "interpreter": {
   "hash": "bcf76d94f5b8b28f3dd69206380c74a29b1a182d1f2d629c955f29cd9944fd60"
  },
  "kernelspec": {
   "display_name": "Python 3.10.0 64-bit",
   "language": "python",
   "name": "python3"
  },
  "language_info": {
   "codemirror_mode": {
    "name": "ipython",
    "version": 3
   },
   "file_extension": ".py",
   "mimetype": "text/x-python",
   "name": "python",
   "nbconvert_exporter": "python",
   "pygments_lexer": "ipython3",
   "version": "3.10.3"
  },
  "orig_nbformat": 4
 },
 "nbformat": 4,
 "nbformat_minor": 2
}
