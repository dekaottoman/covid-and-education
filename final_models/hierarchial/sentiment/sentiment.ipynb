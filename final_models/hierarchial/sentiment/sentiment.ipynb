{
 "cells": [
  {
   "cell_type": "code",
   "execution_count": 1,
   "metadata": {},
   "outputs": [
    {
     "data": {
      "text/html": [
       "<div>\n",
       "<style scoped>\n",
       "    .dataframe tbody tr th:only-of-type {\n",
       "        vertical-align: middle;\n",
       "    }\n",
       "\n",
       "    .dataframe tbody tr th {\n",
       "        vertical-align: top;\n",
       "    }\n",
       "\n",
       "    .dataframe thead th {\n",
       "        text-align: right;\n",
       "    }\n",
       "</style>\n",
       "<table border=\"1\" class=\"dataframe\">\n",
       "  <thead>\n",
       "    <tr style=\"text-align: right;\">\n",
       "      <th></th>\n",
       "      <th>Unnamed: 0</th>\n",
       "      <th>id</th>\n",
       "      <th>created_at</th>\n",
       "      <th>date</th>\n",
       "      <th>time</th>\n",
       "      <th>timezone</th>\n",
       "      <th>user_id</th>\n",
       "      <th>username</th>\n",
       "      <th>name</th>\n",
       "      <th>tweet</th>\n",
       "      <th>language</th>\n",
       "      <th>link</th>\n",
       "      <th>retweet</th>\n",
       "      <th>sentiment</th>\n",
       "    </tr>\n",
       "  </thead>\n",
       "  <tbody>\n",
       "    <tr>\n",
       "      <th>0</th>\n",
       "      <td>1439</td>\n",
       "      <td>1.520000e+18</td>\n",
       "      <td>2022-05-05 07:38:56 Turkey Standard Time</td>\n",
       "      <td>5/5/2022</td>\n",
       "      <td>7:38:56</td>\n",
       "      <td>300</td>\n",
       "      <td>1.230000e+18</td>\n",
       "      <td>mayank_twts</td>\n",
       "      <td>Mayank Verma</td>\n",
       "      <td>EdTech Startup ÃÂ¢ÃÂÃÂ  The industry that...</td>\n",
       "      <td>en</td>\n",
       "      <td>https://twitter.com/mayank_twts/status/1522073...</td>\n",
       "      <td>False</td>\n",
       "      <td>1</td>\n",
       "    </tr>\n",
       "    <tr>\n",
       "      <th>1</th>\n",
       "      <td>726</td>\n",
       "      <td>1.520000e+18</td>\n",
       "      <td>2022-05-03 22:50:03 Turkey Standard Time</td>\n",
       "      <td>5/3/2022</td>\n",
       "      <td>22:50:03</td>\n",
       "      <td>300</td>\n",
       "      <td>9.260000e+17</td>\n",
       "      <td>huntingtonngc</td>\n",
       "      <td>Huntington Learning</td>\n",
       "      <td>There are a lot of unknowns about this school ...</td>\n",
       "      <td>en</td>\n",
       "      <td>https://twitter.com/HuntingtonNGC/status/15215...</td>\n",
       "      <td>False</td>\n",
       "      <td>0</td>\n",
       "    </tr>\n",
       "  </tbody>\n",
       "</table>\n",
       "</div>"
      ],
      "text/plain": [
       "   Unnamed: 0            id                                created_at  \\\n",
       "0        1439  1.520000e+18  2022-05-05 07:38:56 Turkey Standard Time   \n",
       "1         726  1.520000e+18  2022-05-03 22:50:03 Turkey Standard Time   \n",
       "\n",
       "       date      time  timezone       user_id       username  \\\n",
       "0  5/5/2022   7:38:56       300  1.230000e+18    mayank_twts   \n",
       "1  5/3/2022  22:50:03       300  9.260000e+17  huntingtonngc   \n",
       "\n",
       "                  name                                              tweet  \\\n",
       "0         Mayank Verma  EdTech Startup ÃÂ¢ÃÂÃÂ\n",
       "  The industry that...   \n",
       "1  Huntington Learning  There are a lot of unknowns about this school ...   \n",
       "\n",
       "  language                                               link  retweet  \\\n",
       "0       en  https://twitter.com/mayank_twts/status/1522073...    False   \n",
       "1       en  https://twitter.com/HuntingtonNGC/status/15215...    False   \n",
       "\n",
       "   sentiment  \n",
       "0          1  \n",
       "1          0  "
      ]
     },
     "execution_count": 1,
     "metadata": {},
     "output_type": "execute_result"
    }
   ],
   "source": [
    "import pandas as pd\n",
    "\n",
    "data = pd.read_csv(\"labeled_data.csv\", encoding = \"ISO-8859-1\")\n",
    "data.head(2)"
   ]
  },
  {
   "cell_type": "code",
   "execution_count": 2,
   "metadata": {},
   "outputs": [
    {
     "name": "stdout",
     "output_type": "stream",
     "text": [
      "(1207, 14)\n",
      "[1 0 2]\n"
     ]
    }
   ],
   "source": [
    "data = data.loc[data[\"sentiment\"] != 2]\n",
    "data.loc[data[\"sentiment\"] == 3, \"sentiment\"] = 2\n",
    "print(data.shape)\n",
    "print(data[\"sentiment\"].unique())"
   ]
  },
  {
   "cell_type": "code",
   "execution_count": 3,
   "metadata": {},
   "outputs": [
    {
     "name": "stdout",
     "output_type": "stream",
     "text": [
      "(1207,)\n",
      "(1207,)\n"
     ]
    }
   ],
   "source": [
    "x = data[\"tweet\"]\n",
    "y = data[\"sentiment\"]\n",
    "\n",
    "print(x.shape)\n",
    "print(y.shape)"
   ]
  },
  {
   "cell_type": "code",
   "execution_count": 4,
   "metadata": {},
   "outputs": [
    {
     "name": "stdout",
     "output_type": "stream",
     "text": [
      "['edtech', 'startup', 'industry', 'gained', 'attention', 'uncertain', 'times', 'education', 'industry', 'students', 'teachers', 'feel', 'burned', 'pandemic', 'learning', 'companies', 'market', 'online', 'learning', 'tools', 'schools', 'enjoying', 'coronavirus', 'windfall']\n",
      "['lot', 'unknowns', 'school', 'year', 'let', 'child', 'stands', 'one', 'call', 'learn', 'schedule', 'academic', 'evaluation', 'huntingtonhelps', 'remotelearning', 'hybridlearning', 'distancelearning', 'tutoring', 'https', 'tcokuapcpjebh']\n",
      "['cut', 'statistical', 'fallacies', 'counting', 'dead', 'serious', 'business', 'underreporting', 'deaths', 'multiple', 'eventually', 'show', 'crude', 'death', 'rates', 'years']\n"
     ]
    }
   ],
   "source": [
    "import string\n",
    "from nltk.tokenize import word_tokenize\n",
    "from nltk.corpus import stopwords\n",
    "\n",
    "sentence_all = list()\n",
    "lines = x.to_list()\n",
    "\n",
    "for line in lines:\n",
    "    tokens = word_tokenize(line)\n",
    "    tokens = [w.lower() for w in tokens]\n",
    "    table = str.maketrans('','',string.punctuation)\n",
    "    stripped = [w.translate(table) for w in tokens]\n",
    "    words = [word for word in stripped if word.isalpha()]\n",
    "    stop_words = set(stopwords.words(\"english\"))\n",
    "    words = [w for w in words if not w in stop_words]\n",
    "    sentence_all.append(words)\n",
    "\n",
    "print(sentence_all[0])\n",
    "print(sentence_all[1])\n",
    "print(sentence_all[2])"
   ]
  },
  {
   "cell_type": "code",
   "execution_count": 5,
   "metadata": {},
   "outputs": [
    {
     "name": "stdout",
     "output_type": "stream",
     "text": [
      "Vocabulary size: 5951\n"
     ]
    }
   ],
   "source": [
    "import gensim\n",
    "\n",
    "embedding_dim = 50\n",
    "model = gensim.models.Word2Vec(sentences=sentence_all,vector_size=embedding_dim,window=5,workers=4,min_count=1)\n",
    "words = len(model.wv)\n",
    "print(\"Vocabulary size: %d\"%(words))\n",
    "model.wv.save_word2vec_format(\"nn1_embed.txt\",binary=False)"
   ]
  },
  {
   "cell_type": "code",
   "execution_count": 6,
   "metadata": {},
   "outputs": [],
   "source": [
    "import os\n",
    "import numpy as np\n",
    "\n",
    "embedding_index = {}\n",
    "f = open(os.path.join('',\"nn1_embed.txt\"))\n",
    "\n",
    "for line in f:\n",
    "    values = line.split()\n",
    "    word = values[0]\n",
    "    coefs = np.asarray(values[1:])\n",
    "    embedding_index[word] = coefs\n",
    "\n",
    "f.close()"
   ]
  },
  {
   "cell_type": "code",
   "execution_count": 7,
   "metadata": {},
   "outputs": [
    {
     "name": "stdout",
     "output_type": "stream",
     "text": [
      "Unique tokens:5951\n",
      "['edtech', 'startup', 'industry', 'gained', 'attention', 'uncertain', 'times', 'education', 'industry', 'students', 'teachers', 'feel', 'burned', 'pandemic', 'learning', 'companies', 'market', 'online', 'learning', 'tools', 'schools', 'enjoying', 'coronavirus', 'windfall']\n",
      "[188, 2275, 714, 963, 715, 2276, 213, 4, 714, 7, 22, 964, 2277, 11, 2, 716, 717, 6, 2, 965, 14, 1365, 5, 2278]\n"
     ]
    }
   ],
   "source": [
    "from keras.preprocessing.text import Tokenizer\n",
    "\n",
    "tokenizer = Tokenizer()\n",
    "tokenizer.fit_on_texts(sentence_all)\n",
    "\n",
    "sentences = tokenizer.texts_to_sequences(sentence_all)\n",
    "\n",
    "word_index = tokenizer.word_index\n",
    "print(\"Unique tokens:%d\"%len(word_index))\n",
    "print(sentence_all[0])\n",
    "print(sentences[0])"
   ]
  },
  {
   "cell_type": "code",
   "execution_count": 8,
   "metadata": {},
   "outputs": [
    {
     "name": "stdout",
     "output_type": "stream",
     "text": [
      "Maxlen: 33\n",
      "Shape :  (1207, 33)\n"
     ]
    }
   ],
   "source": [
    "from keras.preprocessing.sequence import pad_sequences\n",
    "\n",
    "maxlen = max([len(x) for x in sentences])\n",
    "print(\"Maxlen:\",maxlen)\n",
    "\n",
    "sentences = pad_sequences(sentences, padding='post',maxlen=maxlen)\n",
    "print(\"Shape : \", sentences.shape)"
   ]
  },
  {
   "cell_type": "code",
   "execution_count": 9,
   "metadata": {},
   "outputs": [
    {
     "name": "stdout",
     "output_type": "stream",
     "text": [
      "(905, 33) (302, 33)\n",
      "(905,) (302,)\n",
      "[0. 1. 0.]\n"
     ]
    }
   ],
   "source": [
    "from sklearn.model_selection import train_test_split\n",
    "from tensorflow.keras.utils import to_categorical\n",
    "\n",
    "xTrain, xTest, yTrain, yTest = train_test_split(sentences, y, test_size=0.25)\n",
    "print(xTrain.shape,xTest.shape)\n",
    "print(yTrain.shape,yTest.shape)\n",
    "\n",
    "yTrain = to_categorical(yTrain)\n",
    "yTest = to_categorical(yTest)\n",
    "print(yTrain[0])"
   ]
  },
  {
   "cell_type": "code",
   "execution_count": 10,
   "metadata": {},
   "outputs": [
    {
     "name": "stdout",
     "output_type": "stream",
     "text": [
      "Model: \"sequential\"\n",
      "_________________________________________________________________\n",
      " Layer (type)                Output Shape              Param #   \n",
      "=================================================================\n",
      " embedding (Embedding)       (None, 33, 50)            297600    \n",
      "                                                                 \n",
      " lstm (LSTM)                 (None, 64)                29440     \n",
      "                                                                 \n",
      " dense (Dense)               (None, 16)                1040      \n",
      "                                                                 \n",
      " dense_1 (Dense)             (None, 8)                 136       \n",
      "                                                                 \n",
      " dropout (Dropout)           (None, 8)                 0         \n",
      "                                                                 \n",
      " dense_2 (Dense)             (None, 3)                 27        \n",
      "                                                                 \n",
      "=================================================================\n",
      "Total params: 328,243\n",
      "Trainable params: 30,643\n",
      "Non-trainable params: 297,600\n",
      "_________________________________________________________________\n"
     ]
    }
   ],
   "source": [
    "from keras.models import Sequential\n",
    "from keras.layers import *\n",
    "from keras.layers.embeddings import Embedding\n",
    "from keras.regularizers import l1,l2 \n",
    "from keras.initializers import Constant\n",
    "\n",
    "d_rate = 0.5\n",
    "r_factor = 0.02\n",
    "\n",
    "model = Sequential()\n",
    "model.add(Embedding((len(word_index)+1), embedding_dim,input_length=maxlen,trainable=False))\n",
    "model.add(LSTM(64))\n",
    "model.add(Dense(16,activation=\"relu\",bias_regularizer=l2(r_factor)))\n",
    "model.add(Dense(8,activation=\"relu\",bias_regularizer=l2(r_factor)))\n",
    "model.add(Dropout(d_rate))\n",
    "model.add(Dense(3,activation=\"softmax\"))\n",
    "\n",
    "model.summary()"
   ]
  },
  {
   "cell_type": "code",
   "execution_count": 11,
   "metadata": {},
   "outputs": [
    {
     "name": "stdout",
     "output_type": "stream",
     "text": [
      "Epoch 1/75\n",
      "29/29 [==============================] - 3s 38ms/step - loss: 0.6771 - accuracy: 0.3657 - val_loss: 0.6456 - val_accuracy: 0.3907\n",
      "Epoch 2/75\n",
      "29/29 [==============================] - 1s 19ms/step - loss: 0.6616 - accuracy: 0.3503 - val_loss: 0.6382 - val_accuracy: 0.5033\n",
      "Epoch 3/75\n",
      "29/29 [==============================] - 1s 18ms/step - loss: 0.6503 - accuracy: 0.3657 - val_loss: 0.6160 - val_accuracy: 0.5364\n",
      "Epoch 4/75\n",
      "29/29 [==============================] - 0s 13ms/step - loss: 0.6358 - accuracy: 0.3945 - val_loss: 0.6016 - val_accuracy: 0.5166\n",
      "Epoch 5/75\n",
      "29/29 [==============================] - 0s 13ms/step - loss: 0.6384 - accuracy: 0.4144 - val_loss: 0.6042 - val_accuracy: 0.5497\n",
      "Epoch 6/75\n",
      "29/29 [==============================] - 0s 13ms/step - loss: 0.6272 - accuracy: 0.4298 - val_loss: 0.6044 - val_accuracy: 0.5530\n",
      "Epoch 7/75\n",
      "29/29 [==============================] - 0s 13ms/step - loss: 0.6234 - accuracy: 0.4254 - val_loss: 0.5868 - val_accuracy: 0.5430\n",
      "Epoch 8/75\n",
      "29/29 [==============================] - 0s 13ms/step - loss: 0.6263 - accuracy: 0.4232 - val_loss: 0.5890 - val_accuracy: 0.5331\n",
      "Epoch 9/75\n",
      "29/29 [==============================] - 0s 13ms/step - loss: 0.6140 - accuracy: 0.4608 - val_loss: 0.5926 - val_accuracy: 0.5298\n",
      "Epoch 10/75\n",
      "29/29 [==============================] - 0s 13ms/step - loss: 0.6131 - accuracy: 0.4453 - val_loss: 0.5727 - val_accuracy: 0.5364\n",
      "Epoch 11/75\n",
      "29/29 [==============================] - 0s 13ms/step - loss: 0.6141 - accuracy: 0.4309 - val_loss: 0.5882 - val_accuracy: 0.5265\n",
      "Epoch 12/75\n",
      "29/29 [==============================] - 0s 13ms/step - loss: 0.6197 - accuracy: 0.4519 - val_loss: 0.5754 - val_accuracy: 0.5629\n",
      "Epoch 13/75\n",
      "29/29 [==============================] - 0s 13ms/step - loss: 0.6073 - accuracy: 0.4696 - val_loss: 0.5713 - val_accuracy: 0.5530\n",
      "Epoch 14/75\n",
      "29/29 [==============================] - 0s 13ms/step - loss: 0.6006 - accuracy: 0.4939 - val_loss: 0.5670 - val_accuracy: 0.5364\n",
      "Epoch 15/75\n",
      "29/29 [==============================] - 0s 13ms/step - loss: 0.6064 - accuracy: 0.4608 - val_loss: 0.5842 - val_accuracy: 0.5464\n",
      "Epoch 16/75\n",
      "29/29 [==============================] - 0s 13ms/step - loss: 0.5910 - accuracy: 0.4829 - val_loss: 0.5706 - val_accuracy: 0.5530\n",
      "Epoch 17/75\n",
      "29/29 [==============================] - 0s 13ms/step - loss: 0.5950 - accuracy: 0.4674 - val_loss: 0.5631 - val_accuracy: 0.5762\n",
      "Epoch 18/75\n",
      "29/29 [==============================] - 0s 15ms/step - loss: 0.5856 - accuracy: 0.4928 - val_loss: 0.5761 - val_accuracy: 0.5464\n",
      "Epoch 19/75\n",
      "29/29 [==============================] - 0s 14ms/step - loss: 0.5941 - accuracy: 0.4729 - val_loss: 0.5489 - val_accuracy: 0.5728\n",
      "Epoch 20/75\n",
      "29/29 [==============================] - 0s 14ms/step - loss: 0.5677 - accuracy: 0.5028 - val_loss: 0.5582 - val_accuracy: 0.5563\n",
      "Epoch 21/75\n",
      "29/29 [==============================] - 0s 13ms/step - loss: 0.6079 - accuracy: 0.4519 - val_loss: 0.5532 - val_accuracy: 0.5596\n",
      "Epoch 22/75\n",
      "29/29 [==============================] - 0s 15ms/step - loss: 0.5849 - accuracy: 0.4895 - val_loss: 0.5454 - val_accuracy: 0.5662\n",
      "Epoch 23/75\n",
      "29/29 [==============================] - 0s 13ms/step - loss: 0.5706 - accuracy: 0.5105 - val_loss: 0.5520 - val_accuracy: 0.5563\n",
      "Epoch 24/75\n",
      "29/29 [==============================] - 0s 13ms/step - loss: 0.5636 - accuracy: 0.4807 - val_loss: 0.5388 - val_accuracy: 0.5497\n",
      "Epoch 25/75\n",
      "29/29 [==============================] - 0s 13ms/step - loss: 0.5568 - accuracy: 0.5116 - val_loss: 0.5338 - val_accuracy: 0.5629\n",
      "Epoch 26/75\n",
      "29/29 [==============================] - 0s 13ms/step - loss: 0.5566 - accuracy: 0.4983 - val_loss: 0.5320 - val_accuracy: 0.5530\n",
      "Epoch 27/75\n",
      "29/29 [==============================] - 0s 14ms/step - loss: 0.5495 - accuracy: 0.5215 - val_loss: 0.5528 - val_accuracy: 0.5629\n",
      "Epoch 28/75\n",
      "29/29 [==============================] - 0s 15ms/step - loss: 0.5660 - accuracy: 0.5204 - val_loss: 0.5389 - val_accuracy: 0.5397\n",
      "Epoch 29/75\n",
      "29/29 [==============================] - 0s 17ms/step - loss: 0.5510 - accuracy: 0.5094 - val_loss: 0.5400 - val_accuracy: 0.5497\n",
      "Epoch 30/75\n",
      "29/29 [==============================] - 1s 18ms/step - loss: 0.5573 - accuracy: 0.5260 - val_loss: 0.5259 - val_accuracy: 0.5728\n",
      "Epoch 31/75\n",
      "29/29 [==============================] - 1s 19ms/step - loss: 0.5576 - accuracy: 0.5094 - val_loss: 0.5381 - val_accuracy: 0.5497\n",
      "Epoch 32/75\n",
      "29/29 [==============================] - 0s 14ms/step - loss: 0.5587 - accuracy: 0.5017 - val_loss: 0.5537 - val_accuracy: 0.5464\n",
      "Epoch 33/75\n",
      "29/29 [==============================] - 0s 13ms/step - loss: 0.5452 - accuracy: 0.5448 - val_loss: 0.5245 - val_accuracy: 0.5728\n",
      "Epoch 34/75\n",
      "29/29 [==============================] - 0s 15ms/step - loss: 0.5395 - accuracy: 0.5392 - val_loss: 0.5374 - val_accuracy: 0.5497\n",
      "Epoch 35/75\n",
      "29/29 [==============================] - 0s 15ms/step - loss: 0.5375 - accuracy: 0.5094 - val_loss: 0.5265 - val_accuracy: 0.5762\n",
      "Epoch 36/75\n",
      "29/29 [==============================] - 0s 13ms/step - loss: 0.5385 - accuracy: 0.5436 - val_loss: 0.5290 - val_accuracy: 0.5530\n",
      "Epoch 37/75\n",
      "29/29 [==============================] - 0s 13ms/step - loss: 0.5333 - accuracy: 0.5558 - val_loss: 0.5235 - val_accuracy: 0.5596\n",
      "Epoch 38/75\n",
      "29/29 [==============================] - 0s 13ms/step - loss: 0.5314 - accuracy: 0.5359 - val_loss: 0.5312 - val_accuracy: 0.5563\n",
      "Epoch 39/75\n",
      "29/29 [==============================] - 0s 16ms/step - loss: 0.5510 - accuracy: 0.5138 - val_loss: 0.5255 - val_accuracy: 0.5497\n",
      "Epoch 40/75\n",
      "29/29 [==============================] - 0s 15ms/step - loss: 0.5363 - accuracy: 0.5160 - val_loss: 0.5751 - val_accuracy: 0.5033\n",
      "Epoch 41/75\n",
      "29/29 [==============================] - 0s 14ms/step - loss: 0.5766 - accuracy: 0.4983 - val_loss: 0.5400 - val_accuracy: 0.5563\n",
      "Epoch 42/75\n",
      "29/29 [==============================] - 0s 14ms/step - loss: 0.5379 - accuracy: 0.5127 - val_loss: 0.5359 - val_accuracy: 0.5364\n",
      "Epoch 43/75\n",
      "29/29 [==============================] - 0s 14ms/step - loss: 0.5292 - accuracy: 0.5359 - val_loss: 0.5253 - val_accuracy: 0.5596\n",
      "Epoch 44/75\n",
      "29/29 [==============================] - 0s 13ms/step - loss: 0.5313 - accuracy: 0.5403 - val_loss: 0.5502 - val_accuracy: 0.5331\n",
      "Epoch 45/75\n",
      "29/29 [==============================] - 0s 13ms/step - loss: 0.5451 - accuracy: 0.5304 - val_loss: 0.5502 - val_accuracy: 0.5596\n",
      "Epoch 46/75\n",
      "29/29 [==============================] - 0s 14ms/step - loss: 0.5386 - accuracy: 0.5470 - val_loss: 0.5307 - val_accuracy: 0.5364\n",
      "Epoch 47/75\n",
      "29/29 [==============================] - 0s 15ms/step - loss: 0.5264 - accuracy: 0.5238 - val_loss: 0.5245 - val_accuracy: 0.5497\n",
      "Epoch 48/75\n",
      "29/29 [==============================] - 0s 14ms/step - loss: 0.5294 - accuracy: 0.5470 - val_loss: 0.5246 - val_accuracy: 0.5596\n",
      "Epoch 49/75\n",
      "29/29 [==============================] - 0s 14ms/step - loss: 0.5166 - accuracy: 0.5414 - val_loss: 0.5392 - val_accuracy: 0.5397\n",
      "Epoch 50/75\n",
      "29/29 [==============================] - 0s 14ms/step - loss: 0.5694 - accuracy: 0.5017 - val_loss: 0.5577 - val_accuracy: 0.5166\n",
      "Epoch 51/75\n",
      "29/29 [==============================] - 0s 15ms/step - loss: 0.5461 - accuracy: 0.5425 - val_loss: 0.5295 - val_accuracy: 0.5530\n",
      "Epoch 52/75\n",
      "29/29 [==============================] - 0s 14ms/step - loss: 0.5319 - accuracy: 0.5414 - val_loss: 0.5333 - val_accuracy: 0.5563\n",
      "Epoch 53/75\n",
      "29/29 [==============================] - 0s 14ms/step - loss: 0.5304 - accuracy: 0.5337 - val_loss: 0.5226 - val_accuracy: 0.5530\n",
      "Epoch 54/75\n",
      "29/29 [==============================] - 0s 14ms/step - loss: 0.5324 - accuracy: 0.5359 - val_loss: 0.5168 - val_accuracy: 0.5629\n",
      "Epoch 55/75\n",
      "29/29 [==============================] - 0s 14ms/step - loss: 0.5283 - accuracy: 0.5359 - val_loss: 0.5585 - val_accuracy: 0.5563\n",
      "Epoch 56/75\n",
      "29/29 [==============================] - 0s 14ms/step - loss: 0.5278 - accuracy: 0.5481 - val_loss: 0.5201 - val_accuracy: 0.5563\n",
      "Epoch 57/75\n",
      "29/29 [==============================] - 0s 14ms/step - loss: 0.5145 - accuracy: 0.5514 - val_loss: 0.5073 - val_accuracy: 0.5662\n",
      "Epoch 58/75\n",
      "29/29 [==============================] - 0s 14ms/step - loss: 0.5130 - accuracy: 0.5547 - val_loss: 0.5037 - val_accuracy: 0.5629\n",
      "Epoch 59/75\n",
      "29/29 [==============================] - 0s 13ms/step - loss: 0.5075 - accuracy: 0.5481 - val_loss: 0.5089 - val_accuracy: 0.5596\n",
      "Epoch 60/75\n",
      "29/29 [==============================] - 0s 14ms/step - loss: 0.5266 - accuracy: 0.5337 - val_loss: 0.6099 - val_accuracy: 0.4503\n",
      "Epoch 61/75\n",
      "29/29 [==============================] - 0s 16ms/step - loss: 0.5627 - accuracy: 0.4950 - val_loss: 0.5851 - val_accuracy: 0.5497\n",
      "Epoch 62/75\n",
      "29/29 [==============================] - 0s 14ms/step - loss: 0.5425 - accuracy: 0.5315 - val_loss: 0.5228 - val_accuracy: 0.5795\n",
      "Epoch 63/75\n",
      "29/29 [==============================] - 0s 14ms/step - loss: 0.5190 - accuracy: 0.5481 - val_loss: 0.5275 - val_accuracy: 0.5629\n",
      "Epoch 64/75\n",
      "29/29 [==============================] - 1s 30ms/step - loss: 0.5009 - accuracy: 0.5602 - val_loss: 0.5099 - val_accuracy: 0.5728\n",
      "Epoch 65/75\n",
      "29/29 [==============================] - 1s 29ms/step - loss: 0.4987 - accuracy: 0.5702 - val_loss: 0.5098 - val_accuracy: 0.5762\n",
      "Epoch 66/75\n",
      "29/29 [==============================] - 1s 21ms/step - loss: 0.5219 - accuracy: 0.5558 - val_loss: 0.5059 - val_accuracy: 0.5728\n",
      "Epoch 67/75\n",
      "29/29 [==============================] - 1s 20ms/step - loss: 0.5111 - accuracy: 0.5459 - val_loss: 0.5272 - val_accuracy: 0.5530\n",
      "Epoch 68/75\n",
      "29/29 [==============================] - 1s 26ms/step - loss: 0.5167 - accuracy: 0.5436 - val_loss: 0.5558 - val_accuracy: 0.5464\n",
      "Epoch 69/75\n",
      "29/29 [==============================] - 1s 22ms/step - loss: 0.5178 - accuracy: 0.5525 - val_loss: 0.5078 - val_accuracy: 0.5861\n",
      "Epoch 70/75\n",
      "29/29 [==============================] - 0s 14ms/step - loss: 0.5129 - accuracy: 0.5602 - val_loss: 0.5054 - val_accuracy: 0.5762\n",
      "Epoch 71/75\n",
      "29/29 [==============================] - 0s 14ms/step - loss: 0.4970 - accuracy: 0.5624 - val_loss: 0.5352 - val_accuracy: 0.5695\n",
      "Epoch 72/75\n",
      "29/29 [==============================] - 0s 14ms/step - loss: 0.5072 - accuracy: 0.5669 - val_loss: 0.5165 - val_accuracy: 0.5629\n",
      "Epoch 73/75\n",
      "29/29 [==============================] - 0s 14ms/step - loss: 0.5050 - accuracy: 0.5657 - val_loss: 0.5076 - val_accuracy: 0.5629\n",
      "Epoch 74/75\n",
      "29/29 [==============================] - 0s 14ms/step - loss: 0.5218 - accuracy: 0.5470 - val_loss: 0.5111 - val_accuracy: 0.5629\n",
      "Epoch 75/75\n",
      "29/29 [==============================] - 0s 13ms/step - loss: 0.4984 - accuracy: 0.5635 - val_loss: 0.5156 - val_accuracy: 0.5629\n"
     ]
    }
   ],
   "source": [
    "model.compile(optimizer='adam',loss='binary_crossentropy',metrics=['accuracy'])\n",
    "model_history = model.fit(xTrain,yTrain,epochs=75,validation_data=(xTest,yTest))"
   ]
  },
  {
   "cell_type": "code",
   "execution_count": 12,
   "metadata": {},
   "outputs": [
    {
     "data": {
      "image/png": "[encoded data removed]",
      "text/plain": [
       "<Figure size 864x432 with 2 Axes>"
      ]
     },
     "metadata": {
      "needs_background": "light"
     },
     "output_type": "display_data"
    }
   ],
   "source": [
    "import matplotlib.pyplot as plt\n",
    "\n",
    "trainLoss = model_history.history[\"loss\"]\n",
    "valLoss = model_history.history[\"val_loss\"]\n",
    "trainAccuracy = model_history.history[\"accuracy\"]\n",
    "valAccuracy = model_history.history[\"val_accuracy\"]\n",
    "\n",
    "plt.figure(figsize=(12,6))\n",
    "\n",
    "plt.subplot(1,2,1)\n",
    "plt.plot(trainLoss, \"r\",label=\"Training Loss\")\n",
    "plt.plot(valLoss, \"b\", label=\"Validation Loss\")\n",
    "plt.title(\"Training and Validation Loss\")\n",
    "plt.xlabel(\"Epoch\")\n",
    "plt.ylabel(\"Loss Value\")\n",
    "plt.legend()\n",
    "\n",
    "plt.subplot(1,2,2)\n",
    "plt.plot(trainAccuracy, \"r\",label=\"Training Accuracy\")\n",
    "plt.plot(valAccuracy, \"b\", label=\"Validation Accuracy\")\n",
    "plt.title(\"Training and Validation Accuracy\")\n",
    "plt.xlabel(\"Epoch\")\n",
    "plt.ylabel(\"Accuracy\")\n",
    "plt.legend()\n",
    "\n",
    "plt.show()"
   ]
  },
  {
   "cell_type": "code",
   "execution_count": 13,
   "metadata": {},
   "outputs": [
    {
     "data": {
      "text/plain": [
       "Text(0.5, 1.0, 'ROC Curve')"
      ]
     },
     "execution_count": 13,
     "metadata": {},
     "output_type": "execute_result"
    },
    {
     "data": {
      "image/png": "[encoded data removed]",
      "text/plain": [
       "<Figure size 432x288 with 1 Axes>"
      ]
     },
     "metadata": {
      "needs_background": "light"
     },
     "output_type": "display_data"
    }
   ],
   "source": [
    "from sklearn.metrics import roc_curve\n",
    "\n",
    "yPred = model.predict(xTest)\n",
    "\n",
    "fpr, tpr, thresholds = roc_curve(yTest.ravel(),yPred.ravel())\n",
    "plt.plot(fpr,tpr)\n",
    "plt.xlabel(\"False Positive Rate\")\n",
    "plt.xlabel(\"False Positive Rate\")\n",
    "plt.title(\"ROC Curve\")"
   ]
  }
 ],
 "metadata": {
  "interpreter": {
   "hash": "bcf76d94f5b8b28f3dd69206380c74a29b1a182d1f2d629c955f29cd9944fd60"
  },
  "kernelspec": {
   "display_name": "Python 3.10.0 64-bit",
   "language": "python",
   "name": "python3"
  },
  "language_info": {
   "codemirror_mode": {
    "name": "ipython",
    "version": 3
   },
   "file_extension": ".py",
   "mimetype": "text/x-python",
   "name": "python",
   "nbconvert_exporter": "python",
   "pygments_lexer": "ipython3",
   "version": "3.10.3"
  },
  "orig_nbformat": 4
 },
 "nbformat": 4,
 "nbformat_minor": 2
}
