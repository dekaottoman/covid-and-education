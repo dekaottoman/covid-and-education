{
 "cells": [
  {
   "cell_type": "code",
   "execution_count": 1,
   "metadata": {},
   "outputs": [
    {
     "data": {
      "text/html": [
       "<div>\n",
       "<style scoped>\n",
       "    .dataframe tbody tr th:only-of-type {\n",
       "        vertical-align: middle;\n",
       "    }\n",
       "\n",
       "    .dataframe tbody tr th {\n",
       "        vertical-align: top;\n",
       "    }\n",
       "\n",
       "    .dataframe thead th {\n",
       "        text-align: right;\n",
       "    }\n",
       "</style>\n",
       "<table border=\"1\" class=\"dataframe\">\n",
       "  <thead>\n",
       "    <tr style=\"text-align: right;\">\n",
       "      <th></th>\n",
       "      <th>Unnamed: 0</th>\n",
       "      <th>id</th>\n",
       "      <th>created_at</th>\n",
       "      <th>date</th>\n",
       "      <th>time</th>\n",
       "      <th>timezone</th>\n",
       "      <th>user_id</th>\n",
       "      <th>username</th>\n",
       "      <th>name</th>\n",
       "      <th>tweet</th>\n",
       "      <th>language</th>\n",
       "      <th>link</th>\n",
       "      <th>retweet</th>\n",
       "      <th>sentiment</th>\n",
       "    </tr>\n",
       "  </thead>\n",
       "  <tbody>\n",
       "    <tr>\n",
       "      <th>0</th>\n",
       "      <td>1439</td>\n",
       "      <td>1.520000e+18</td>\n",
       "      <td>2022-05-05 07:38:56 Turkey Standard Time</td>\n",
       "      <td>5/5/2022</td>\n",
       "      <td>7:38:56</td>\n",
       "      <td>300</td>\n",
       "      <td>1.230000e+18</td>\n",
       "      <td>mayank_twts</td>\n",
       "      <td>Mayank Verma</td>\n",
       "      <td>EdTech Startup ÃÂ¢ÃÂÃÂ  The industry that...</td>\n",
       "      <td>en</td>\n",
       "      <td>https://twitter.com/mayank_twts/status/1522073...</td>\n",
       "      <td>False</td>\n",
       "      <td>1</td>\n",
       "    </tr>\n",
       "    <tr>\n",
       "      <th>1</th>\n",
       "      <td>726</td>\n",
       "      <td>1.520000e+18</td>\n",
       "      <td>2022-05-03 22:50:03 Turkey Standard Time</td>\n",
       "      <td>5/3/2022</td>\n",
       "      <td>22:50:03</td>\n",
       "      <td>300</td>\n",
       "      <td>9.260000e+17</td>\n",
       "      <td>huntingtonngc</td>\n",
       "      <td>Huntington Learning</td>\n",
       "      <td>There are a lot of unknowns about this school ...</td>\n",
       "      <td>en</td>\n",
       "      <td>https://twitter.com/HuntingtonNGC/status/15215...</td>\n",
       "      <td>False</td>\n",
       "      <td>0</td>\n",
       "    </tr>\n",
       "  </tbody>\n",
       "</table>\n",
       "</div>"
      ],
      "text/plain": [
       "   Unnamed: 0            id                                created_at  \\\n",
       "0        1439  1.520000e+18  2022-05-05 07:38:56 Turkey Standard Time   \n",
       "1         726  1.520000e+18  2022-05-03 22:50:03 Turkey Standard Time   \n",
       "\n",
       "       date      time  timezone       user_id       username  \\\n",
       "0  5/5/2022   7:38:56       300  1.230000e+18    mayank_twts   \n",
       "1  5/3/2022  22:50:03       300  9.260000e+17  huntingtonngc   \n",
       "\n",
       "                  name                                              tweet  \\\n",
       "0         Mayank Verma  EdTech Startup ÃÂ¢ÃÂÃÂ\n",
       "  The industry that...   \n",
       "1  Huntington Learning  There are a lot of unknowns about this school ...   \n",
       "\n",
       "  language                                               link  retweet  \\\n",
       "0       en  https://twitter.com/mayank_twts/status/1522073...    False   \n",
       "1       en  https://twitter.com/HuntingtonNGC/status/15215...    False   \n",
       "\n",
       "   sentiment  \n",
       "0          1  \n",
       "1          0  "
      ]
     },
     "execution_count": 1,
     "metadata": {},
     "output_type": "execute_result"
    }
   ],
   "source": [
    "import pandas as pd\n",
    "\n",
    "data = pd.read_csv(\"labeled_data.csv\", encoding = \"ISO-8859-1\")\n",
    "data.head(2)"
   ]
  },
  {
   "cell_type": "code",
   "execution_count": 2,
   "metadata": {},
   "outputs": [
    {
     "data": {
      "text/plain": [
       "array([1, 0], dtype=int64)"
      ]
     },
     "execution_count": 2,
     "metadata": {},
     "output_type": "execute_result"
    }
   ],
   "source": [
    "data.loc[data[\"sentiment\"] != 2, \"sentiment\"] = 1\n",
    "data.loc[data[\"sentiment\"] == 2, \"sentiment\"] = 0\n",
    "data[\"sentiment\"].unique()"
   ]
  },
  {
   "cell_type": "code",
   "execution_count": 3,
   "metadata": {},
   "outputs": [
    {
     "name": "stdout",
     "output_type": "stream",
     "text": [
      "(2223,)\n",
      "(2223,)\n"
     ]
    }
   ],
   "source": [
    "x = data[\"tweet\"]\n",
    "y = data[\"sentiment\"]\n",
    "\n",
    "print(x.shape)\n",
    "print(y.shape)"
   ]
  },
  {
   "cell_type": "code",
   "execution_count": 4,
   "metadata": {},
   "outputs": [
    {
     "name": "stdout",
     "output_type": "stream",
     "text": [
      "['edtech', 'startup', 'industry', 'gained', 'attention', 'uncertain', 'times', 'education', 'industry', 'students', 'teachers', 'feel', 'burned', 'pandemic', 'learning', 'companies', 'market', 'online', 'learning', 'tools', 'schools', 'enjoying', 'coronavirus', 'windfall']\n",
      "['lot', 'unknowns', 'school', 'year', 'let', 'child', 'stands', 'one', 'call', 'learn', 'schedule', 'academic', 'evaluation', 'huntingtonhelps', 'remotelearning', 'hybridlearning', 'distancelearning', 'tutoring', 'https', 'tcokuapcpjebh']\n",
      "['cut', 'statistical', 'fallacies', 'counting', 'dead', 'serious', 'business', 'underreporting', 'deaths', 'multiple', 'eventually', 'show', 'crude', 'death', 'rates', 'years']\n"
     ]
    }
   ],
   "source": [
    "import string\n",
    "from nltk.tokenize import word_tokenize\n",
    "from nltk.corpus import stopwords\n",
    "\n",
    "sentence_all = list()\n",
    "lines = x.to_list()\n",
    "\n",
    "for line in lines:\n",
    "    tokens = word_tokenize(line)\n",
    "    tokens = [w.lower() for w in tokens]\n",
    "    table = str.maketrans('','',string.punctuation)\n",
    "    stripped = [w.translate(table) for w in tokens]\n",
    "    words = [word for word in stripped if word.isalpha()]\n",
    "    stop_words = set(stopwords.words(\"english\"))\n",
    "    words = [w for w in words if not w in stop_words]\n",
    "    sentence_all.append(words)\n",
    "\n",
    "print(sentence_all[0])\n",
    "print(sentence_all[1])\n",
    "print(sentence_all[2])"
   ]
  },
  {
   "cell_type": "code",
   "execution_count": 5,
   "metadata": {},
   "outputs": [
    {
     "name": "stdout",
     "output_type": "stream",
     "text": [
      "Vocabulary size: 9053\n"
     ]
    }
   ],
   "source": [
    "import gensim\n",
    "\n",
    "embedding_dim = 50\n",
    "model = gensim.models.Word2Vec(sentences=sentence_all,vector_size=embedding_dim,window=5,workers=4,min_count=1)\n",
    "words = len(model.wv)\n",
    "print(\"Vocabulary size: %d\"%(words))\n",
    "model.wv.save_word2vec_format(\"nn1_embed.txt\",binary=False)"
   ]
  },
  {
   "cell_type": "code",
   "execution_count": 6,
   "metadata": {},
   "outputs": [],
   "source": [
    "import os\n",
    "import numpy as np\n",
    "\n",
    "embedding_index = {}\n",
    "f = open(os.path.join('',\"nn1_embed.txt\"))\n",
    "\n",
    "for line in f:\n",
    "    values = line.split()\n",
    "    word = values[0]\n",
    "    coefs = np.asarray(values[1:])\n",
    "    embedding_index[word] = coefs\n",
    "\n",
    "f.close()"
   ]
  },
  {
   "cell_type": "code",
   "execution_count": 7,
   "metadata": {},
   "outputs": [
    {
     "name": "stdout",
     "output_type": "stream",
     "text": [
      "Unique tokens:9053\n",
      "['edtech', 'startup', 'industry', 'gained', 'attention', 'uncertain', 'times', 'education', 'industry', 'students', 'teachers', 'feel', 'burned', 'pandemic', 'learning', 'companies', 'market', 'online', 'learning', 'tools', 'schools', 'enjoying', 'coronavirus', 'windfall']\n",
      "[49, 3777, 248, 1737, 1389, 2401, 317, 4, 248, 8, 21, 1390, 3778, 11, 2, 1142, 508, 5, 2, 561, 19, 2402, 7, 3779]\n"
     ]
    }
   ],
   "source": [
    "from keras.preprocessing.text import Tokenizer\n",
    "\n",
    "tokenizer = Tokenizer()\n",
    "tokenizer.fit_on_texts(sentence_all)\n",
    "\n",
    "sentences = tokenizer.texts_to_sequences(sentence_all)\n",
    "\n",
    "word_index = tokenizer.word_index\n",
    "print(\"Unique tokens:%d\"%len(word_index))\n",
    "print(sentence_all[0])\n",
    "print(sentences[0])"
   ]
  },
  {
   "cell_type": "code",
   "execution_count": 8,
   "metadata": {},
   "outputs": [
    {
     "name": "stdout",
     "output_type": "stream",
     "text": [
      "Maxlen: 37\n",
      "Shape :  (2223, 37)\n"
     ]
    }
   ],
   "source": [
    "from keras.preprocessing.sequence import pad_sequences\n",
    "\n",
    "maxlen = max([len(x) for x in sentences])\n",
    "print(\"Maxlen:\",maxlen)\n",
    "\n",
    "sentences = pad_sequences(sentences, padding='post',maxlen=maxlen)\n",
    "print(\"Shape : \", sentences.shape)"
   ]
  },
  {
   "cell_type": "code",
   "execution_count": 9,
   "metadata": {},
   "outputs": [
    {
     "name": "stdout",
     "output_type": "stream",
     "text": [
      "(1667, 37) (556, 37)\n",
      "(1667,) (556,)\n"
     ]
    }
   ],
   "source": [
    "from sklearn.model_selection import train_test_split\n",
    "from tensorflow.keras.utils import to_categorical\n",
    "\n",
    "xTrain, xTest, yTrain, yTest = train_test_split(sentences, y, test_size=0.25)\n",
    "print(xTrain.shape,xTest.shape)\n",
    "print(yTrain.shape,yTest.shape)\n",
    "\n",
    "yTrain = to_categorical(yTrain)\n",
    "yTest = to_categorical(yTest)"
   ]
  },
  {
   "cell_type": "code",
   "execution_count": 10,
   "metadata": {},
   "outputs": [
    {
     "name": "stdout",
     "output_type": "stream",
     "text": [
      "Model: \"sequential\"\n",
      "_________________________________________________________________\n",
      " Layer (type)                Output Shape              Param #   \n",
      "=================================================================\n",
      " embedding (Embedding)       (None, 37, 50)            452700    \n",
      "                                                                 \n",
      " lstm (LSTM)                 (None, 32)                10624     \n",
      "                                                                 \n",
      " flatten (Flatten)           (None, 32)                0         \n",
      "                                                                 \n",
      " dense (Dense)               (None, 8)                 264       \n",
      "                                                                 \n",
      " dense_1 (Dense)             (None, 8)                 72        \n",
      "                                                                 \n",
      " dropout (Dropout)           (None, 8)                 0         \n",
      "                                                                 \n",
      " dense_2 (Dense)             (None, 2)                 18        \n",
      "                                                                 \n",
      "=================================================================\n",
      "Total params: 463,678\n",
      "Trainable params: 10,978\n",
      "Non-trainable params: 452,700\n",
      "_________________________________________________________________\n"
     ]
    }
   ],
   "source": [
    "from keras.models import Sequential\n",
    "from keras.layers import *\n",
    "from keras.layers.embeddings import Embedding\n",
    "from keras.initializers import Constant\n",
    "from keras.regularizers import l1,l2 \n",
    "\n",
    "d_rate = 0.7\n",
    "r_factor = 0.01\n",
    "\n",
    "model = Sequential()\n",
    "\n",
    "model.add(Embedding((len(word_index)+1), embedding_dim,input_length=maxlen,trainable=False))\n",
    "model.add(LSTM(32))\n",
    "model.add(Flatten())\n",
    "model.add(Dense(8,activation=\"tanh\",kernel_regularizer=l2(r_factor), bias_regularizer=l2(r_factor)))\n",
    "model.add(Dense(8,activation=\"tanh\",kernel_regularizer=l2(r_factor), bias_regularizer=l2(r_factor)))\n",
    "model.add(Dropout(d_rate))\n",
    "model.add(Dense(2,activation=\"sigmoid\"))\n",
    "\n",
    "model.summary()"
   ]
  },
  {
   "cell_type": "code",
   "execution_count": 11,
   "metadata": {},
   "outputs": [
    {
     "name": "stdout",
     "output_type": "stream",
     "text": [
      "Epoch 1/50\n",
      "53/53 [==============================] - 4s 36ms/step - loss: 0.8716 - accuracy: 0.5255 - val_loss: 0.8382 - val_accuracy: 0.5558\n",
      "Epoch 2/50\n",
      "53/53 [==============================] - 2s 32ms/step - loss: 0.8176 - accuracy: 0.5501 - val_loss: 0.7937 - val_accuracy: 0.5558\n",
      "Epoch 3/50\n",
      "53/53 [==============================] - 2s 37ms/step - loss: 0.7799 - accuracy: 0.5387 - val_loss: 0.7614 - val_accuracy: 0.5558\n",
      "Epoch 4/50\n",
      "53/53 [==============================] - 4s 68ms/step - loss: 0.7517 - accuracy: 0.5387 - val_loss: 0.7388 - val_accuracy: 0.5558\n",
      "Epoch 5/50\n",
      "53/53 [==============================] - 2s 36ms/step - loss: 0.7328 - accuracy: 0.5387 - val_loss: 0.7229 - val_accuracy: 0.5558\n",
      "Epoch 6/50\n",
      "53/53 [==============================] - 2s 45ms/step - loss: 0.7193 - accuracy: 0.5387 - val_loss: 0.7117 - val_accuracy: 0.5558\n",
      "Epoch 7/50\n",
      "53/53 [==============================] - 3s 63ms/step - loss: 0.7097 - accuracy: 0.5387 - val_loss: 0.7043 - val_accuracy: 0.5558\n",
      "Epoch 8/50\n",
      "53/53 [==============================] - 2s 36ms/step - loss: 0.7035 - accuracy: 0.5387 - val_loss: 0.6989 - val_accuracy: 0.5558\n",
      "Epoch 9/50\n",
      "53/53 [==============================] - 1s 28ms/step - loss: 0.6992 - accuracy: 0.5387 - val_loss: 0.6956 - val_accuracy: 0.5558\n",
      "Epoch 10/50\n",
      "53/53 [==============================] - 1s 25ms/step - loss: 0.6972 - accuracy: 0.5387 - val_loss: 0.6929 - val_accuracy: 0.5558\n",
      "Epoch 11/50\n",
      "53/53 [==============================] - 1s 28ms/step - loss: 0.6946 - accuracy: 0.5387 - val_loss: 0.6911 - val_accuracy: 0.5558\n",
      "Epoch 12/50\n",
      "53/53 [==============================] - 2s 32ms/step - loss: 0.6925 - accuracy: 0.5387 - val_loss: 0.6899 - val_accuracy: 0.5558\n",
      "Epoch 13/50\n",
      "53/53 [==============================] - 2s 30ms/step - loss: 0.6922 - accuracy: 0.5387 - val_loss: 0.6891 - val_accuracy: 0.5558\n",
      "Epoch 14/50\n",
      "53/53 [==============================] - 2s 31ms/step - loss: 0.6924 - accuracy: 0.5387 - val_loss: 0.6891 - val_accuracy: 0.5558\n",
      "Epoch 15/50\n",
      "53/53 [==============================] - 1s 26ms/step - loss: 0.6917 - accuracy: 0.5387 - val_loss: 0.6885 - val_accuracy: 0.5558\n",
      "Epoch 16/50\n",
      "53/53 [==============================] - 1s 26ms/step - loss: 0.6910 - accuracy: 0.5387 - val_loss: 0.6882 - val_accuracy: 0.5558\n",
      "Epoch 17/50\n",
      "53/53 [==============================] - 1s 25ms/step - loss: 0.6909 - accuracy: 0.5387 - val_loss: 0.6881 - val_accuracy: 0.5558\n",
      "Epoch 18/50\n",
      "53/53 [==============================] - 1s 22ms/step - loss: 0.6908 - accuracy: 0.5387 - val_loss: 0.6881 - val_accuracy: 0.5558\n",
      "Epoch 19/50\n",
      "53/53 [==============================] - 1s 23ms/step - loss: 0.6904 - accuracy: 0.5387 - val_loss: 0.6879 - val_accuracy: 0.5558\n",
      "Epoch 20/50\n",
      "53/53 [==============================] - 2s 30ms/step - loss: 0.6907 - accuracy: 0.5387 - val_loss: 0.6876 - val_accuracy: 0.5558\n",
      "Epoch 21/50\n",
      "53/53 [==============================] - 1s 23ms/step - loss: 0.6901 - accuracy: 0.5387 - val_loss: 0.6878 - val_accuracy: 0.5558\n",
      "Epoch 22/50\n",
      "53/53 [==============================] - 1s 22ms/step - loss: 0.6909 - accuracy: 0.5387 - val_loss: 0.6879 - val_accuracy: 0.5558\n",
      "Epoch 23/50\n",
      "53/53 [==============================] - 1s 21ms/step - loss: 0.6899 - accuracy: 0.5387 - val_loss: 0.6876 - val_accuracy: 0.5558\n",
      "Epoch 24/50\n",
      "53/53 [==============================] - 1s 26ms/step - loss: 0.6902 - accuracy: 0.5387 - val_loss: 0.6876 - val_accuracy: 0.5558\n",
      "Epoch 25/50\n",
      "53/53 [==============================] - 1s 23ms/step - loss: 0.6902 - accuracy: 0.5387 - val_loss: 0.6877 - val_accuracy: 0.5558\n",
      "Epoch 26/50\n",
      "53/53 [==============================] - 1s 21ms/step - loss: 0.6904 - accuracy: 0.5387 - val_loss: 0.6877 - val_accuracy: 0.5558\n",
      "Epoch 27/50\n",
      "53/53 [==============================] - 1s 21ms/step - loss: 0.6906 - accuracy: 0.5387 - val_loss: 0.6877 - val_accuracy: 0.5558\n",
      "Epoch 28/50\n",
      "53/53 [==============================] - 1s 20ms/step - loss: 0.6901 - accuracy: 0.5387 - val_loss: 0.6876 - val_accuracy: 0.5558\n",
      "Epoch 29/50\n",
      "53/53 [==============================] - 1s 21ms/step - loss: 0.6901 - accuracy: 0.5387 - val_loss: 0.6876 - val_accuracy: 0.5558\n",
      "Epoch 30/50\n",
      "53/53 [==============================] - 1s 20ms/step - loss: 0.6904 - accuracy: 0.5387 - val_loss: 0.6877 - val_accuracy: 0.5558\n",
      "Epoch 31/50\n",
      "53/53 [==============================] - 1s 21ms/step - loss: 0.6905 - accuracy: 0.5387 - val_loss: 0.6877 - val_accuracy: 0.5558\n",
      "Epoch 32/50\n",
      "53/53 [==============================] - 1s 20ms/step - loss: 0.6900 - accuracy: 0.5387 - val_loss: 0.6879 - val_accuracy: 0.5558\n",
      "Epoch 33/50\n",
      "53/53 [==============================] - 2s 29ms/step - loss: 0.6905 - accuracy: 0.5387 - val_loss: 0.6879 - val_accuracy: 0.5558\n",
      "Epoch 34/50\n",
      "53/53 [==============================] - 2s 29ms/step - loss: 0.6904 - accuracy: 0.5387 - val_loss: 0.6877 - val_accuracy: 0.5558\n",
      "Epoch 35/50\n",
      "53/53 [==============================] - 2s 30ms/step - loss: 0.6907 - accuracy: 0.5387 - val_loss: 0.6876 - val_accuracy: 0.5558\n",
      "Epoch 36/50\n",
      "53/53 [==============================] - 1s 28ms/step - loss: 0.6901 - accuracy: 0.5387 - val_loss: 0.6875 - val_accuracy: 0.5558\n",
      "Epoch 37/50\n",
      "53/53 [==============================] - 1s 26ms/step - loss: 0.6902 - accuracy: 0.5387 - val_loss: 0.6875 - val_accuracy: 0.5558\n",
      "Epoch 38/50\n",
      "53/53 [==============================] - 1s 24ms/step - loss: 0.6900 - accuracy: 0.5387 - val_loss: 0.6875 - val_accuracy: 0.5558\n",
      "Epoch 39/50\n",
      "53/53 [==============================] - 1s 21ms/step - loss: 0.6901 - accuracy: 0.5387 - val_loss: 0.6877 - val_accuracy: 0.5558\n",
      "Epoch 40/50\n",
      "53/53 [==============================] - 1s 20ms/step - loss: 0.6907 - accuracy: 0.5387 - val_loss: 0.6878 - val_accuracy: 0.5558\n",
      "Epoch 41/50\n",
      "53/53 [==============================] - 1s 25ms/step - loss: 0.6902 - accuracy: 0.5387 - val_loss: 0.6876 - val_accuracy: 0.5558\n",
      "Epoch 42/50\n",
      "53/53 [==============================] - 2s 38ms/step - loss: 0.6901 - accuracy: 0.5387 - val_loss: 0.6875 - val_accuracy: 0.5558\n",
      "Epoch 43/50\n",
      "53/53 [==============================] - 2s 37ms/step - loss: 0.6903 - accuracy: 0.5387 - val_loss: 0.6875 - val_accuracy: 0.5558\n",
      "Epoch 44/50\n",
      "53/53 [==============================] - 2s 35ms/step - loss: 0.6903 - accuracy: 0.5387 - val_loss: 0.6874 - val_accuracy: 0.5558\n",
      "Epoch 45/50\n",
      "53/53 [==============================] - 2s 33ms/step - loss: 0.6902 - accuracy: 0.5387 - val_loss: 0.6876 - val_accuracy: 0.5558\n",
      "Epoch 46/50\n",
      "53/53 [==============================] - 2s 32ms/step - loss: 0.6901 - accuracy: 0.5387 - val_loss: 0.6874 - val_accuracy: 0.5558\n",
      "Epoch 47/50\n",
      "53/53 [==============================] - 1s 24ms/step - loss: 0.6907 - accuracy: 0.5387 - val_loss: 0.6875 - val_accuracy: 0.5558\n",
      "Epoch 48/50\n",
      "53/53 [==============================] - 1s 25ms/step - loss: 0.6904 - accuracy: 0.5387 - val_loss: 0.6878 - val_accuracy: 0.5558\n",
      "Epoch 49/50\n",
      "53/53 [==============================] - 2s 31ms/step - loss: 0.6903 - accuracy: 0.5387 - val_loss: 0.6876 - val_accuracy: 0.5558\n",
      "Epoch 50/50\n",
      "53/53 [==============================] - 1s 22ms/step - loss: 0.6902 - accuracy: 0.5387 - val_loss: 0.6875 - val_accuracy: 0.5558\n"
     ]
    }
   ],
   "source": [
    "model.compile(optimizer=\"adam\",loss='binary_crossentropy',metrics=['accuracy'])\n",
    "model_history = model.fit(xTrain,yTrain,epochs=50,validation_data=(xTest,yTest))"
   ]
  },
  {
   "cell_type": "code",
   "execution_count": 12,
   "metadata": {},
   "outputs": [
    {
     "data": {
      "image/png": "[encoded data removed]",
      "text/plain": [
       "<Figure size 864x432 with 2 Axes>"
      ]
     },
     "metadata": {
      "needs_background": "light"
     },
     "output_type": "display_data"
    }
   ],
   "source": [
    "import matplotlib.pyplot as plt\n",
    "\n",
    "trainLoss = model_history.history[\"loss\"]\n",
    "valLoss = model_history.history[\"val_loss\"]\n",
    "trainAccuracy = model_history.history[\"accuracy\"]\n",
    "valAccuracy = model_history.history[\"val_accuracy\"]\n",
    "\n",
    "plt.figure(figsize=(12,6))\n",
    "\n",
    "plt.subplot(1,2,1)\n",
    "plt.plot(trainLoss, \"r\",label=\"Training Loss\")\n",
    "plt.plot(valLoss, \"b\", label=\"Validation Loss\")\n",
    "plt.title(\"Training and Validation Loss\")\n",
    "plt.xlabel(\"Epoch\")\n",
    "plt.ylabel(\"Loss Value\")\n",
    "plt.legend()\n",
    "\n",
    "plt.subplot(1,2,2)\n",
    "plt.plot(trainAccuracy, \"r\",label=\"Training Accuracy\")\n",
    "plt.plot(valAccuracy, \"b\", label=\"Validation Accuracy\")\n",
    "plt.title(\"Training and Validation Accuracy\")\n",
    "plt.xlabel(\"Epoch\")\n",
    "plt.ylabel(\"Accuracy\")\n",
    "plt.legend()\n",
    "\n",
    "plt.show()"
   ]
  },
  {
   "cell_type": "code",
   "execution_count": 13,
   "metadata": {},
   "outputs": [
    {
     "data": {
      "text/plain": [
       "Text(0.5, 1.0, 'ROC Curve')"
      ]
     },
     "execution_count": 13,
     "metadata": {},
     "output_type": "execute_result"
    },
    {
     "data": {
      "image/png": "[encoded data removed]",
      "text/plain": [
       "<Figure size 432x288 with 1 Axes>"
      ]
     },
     "metadata": {
      "needs_background": "light"
     },
     "output_type": "display_data"
    }
   ],
   "source": [
    "from sklearn.metrics import roc_curve\n",
    "\n",
    "yPred = model.predict(xTest)\n",
    "\n",
    "fpr, tpr, thresholds = roc_curve(yTest.ravel(),yPred.ravel())\n",
    "plt.plot(fpr,tpr)\n",
    "plt.xlabel(\"False Positive Rate\")\n",
    "plt.xlabel(\"False Positive Rate\")\n",
    "plt.title(\"ROC Curve\")"
   ]
  }
 ],
 "metadata": {
  "interpreter": {
   "hash": "bcf76d94f5b8b28f3dd69206380c74a29b1a182d1f2d629c955f29cd9944fd60"
  },
  "kernelspec": {
   "display_name": "Python 3.10.3 64-bit",
   "language": "python",
   "name": "python3"
  },
  "language_info": {
   "codemirror_mode": {
    "name": "ipython",
    "version": 3
   },
   "file_extension": ".py",
   "mimetype": "text/x-python",
   "name": "python",
   "nbconvert_exporter": "python",
   "pygments_lexer": "ipython3",
   "version": "3.10.3"
  },
  "orig_nbformat": 4
 },
 "nbformat": 4,
 "nbformat_minor": 2
}
